{
 "cells": [
  {
   "cell_type": "code",
   "execution_count": null,
   "id": "eedf967e",
   "metadata": {},
   "outputs": [],
   "source": [
    "from sklearn.ensemble import RandomForestClassifier\n",
    "from sklearn.model_selection import GridSearchCV\n",
    "from sklearn.datasets import load_iris\n",
    "from sklearn.model_selection import train_test_split\n",
    "\n",
    "# Carregando o dataset\n",
    "iris = load_iris()\n",
    "X = iris.data\n",
    "y = iris.target\n",
    "\n",
    "# Dividindo os dados em conjuntos de treinamento e teste\n",
    "X_train, X_test, y_train, y_test = train_test_split(X, y, test_size=0.2, random_state=42)\n",
    "\n",
    "# Definindo os parâmetros que você deseja testar\n",
    "parametros = {'n_estimators': [10, 50, 100], 'max_depth': [None, 10, 20, 30], 'min_samples_split': [2, 5, 10]}\n",
    "\n",
    "# Criando o objeto GridSearchCV\n",
    "grid = GridSearchCV(estimator = RandomForestClassifier(), param_grid = parametros, cv = 5)\n",
    "\n",
    "# Ajustando o modelo\n",
    "grid.fit(X_train, y_train)\n",
    "\n",
    "# Os melhores parâmetros encontrados\n",
    "print('Melhores parâmetros: ', grid.best_params_)\n",
    "\n",
    "# Treinando um novo modelo RandomForest com os melhores parâmetros\n",
    "modelo_final = RandomForestClassifier(**grid.best_params_)\n",
    "modelo_final.fit(X_train, y_train)\n",
    "\n",
    "# Avaliando o modelo final\n",
    "score = modelo_final.score(X_test, y_test)\n",
    "print('Score do modelo final: ', score)\n"
   ]
  }
 ],
 "metadata": {
  "kernelspec": {
   "display_name": "Python 3 (ipykernel)",
   "language": "python",
   "name": "python3"
  },
  "language_info": {
   "codemirror_mode": {
    "name": "ipython",
    "version": 3
   },
   "file_extension": ".py",
   "mimetype": "text/x-python",
   "name": "python",
   "nbconvert_exporter": "python",
   "pygments_lexer": "ipython3",
   "version": "3.10.13"
  }
 },
 "nbformat": 4,
 "nbformat_minor": 5
}
