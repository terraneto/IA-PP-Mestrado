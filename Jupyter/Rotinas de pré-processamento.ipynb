{
 "cells": [
  {
   "cell_type": "code",
   "execution_count": 1,
   "id": "7febc66b-cc24-4ee0-a61c-7b22dcbee21b",
   "metadata": {},
   "outputs": [
    {
     "name": "stdout",
     "output_type": "stream",
     "text": [
      "[[0.  0.  0. ]\n",
      " [0.5 0.5 0.5]\n",
      " [1.  1.  1. ]]\n"
     ]
    }
   ],
   "source": [
    "from sklearn.preprocessing import RobustScaler, MinMaxScaler\n",
    "import numpy as np\n",
    "\n",
    "# Suponha que temos os seguintes dados:\n",
    "X = np.array([[1, 2, 3], [4, 5, 6], [7, 8, 9]])\n",
    "\n",
    "# Crie uma instância do RobustScaler\n",
    "robust_scaler = RobustScaler()\n",
    "\n",
    "# Ajuste e transforme os dados com o RobustScaler\n",
    "X_robust = robust_scaler.fit_transform(X)\n",
    "\n",
    "# Crie uma instância do MinMaxScaler\n",
    "minmax_scaler = MinMaxScaler()\n",
    "\n",
    "# Ajuste e transforme os dados com o MinMaxScaler\n",
    "X_minmax = minmax_scaler.fit_transform(X_robust)\n",
    "\n",
    "# Agora X_minmax está na escala robusta e depois na escala min-max\n",
    "print(X_minmax)\n"
   ]
  },
  {
   "cell_type": "code",
   "execution_count": null,
   "id": "72eb3442-c396-441c-89af-56a16cbdd2ab",
   "metadata": {},
   "outputs": [],
   "source": []
  }
 ],
 "metadata": {
  "kernelspec": {
   "display_name": "Python 3 (ipykernel)",
   "language": "python",
   "name": "python3"
  },
  "language_info": {
   "codemirror_mode": {
    "name": "ipython",
    "version": 3
   },
   "file_extension": ".py",
   "mimetype": "text/x-python",
   "name": "python",
   "nbconvert_exporter": "python",
   "pygments_lexer": "ipython3",
   "version": "3.11.5"
  }
 },
 "nbformat": 4,
 "nbformat_minor": 5
}
