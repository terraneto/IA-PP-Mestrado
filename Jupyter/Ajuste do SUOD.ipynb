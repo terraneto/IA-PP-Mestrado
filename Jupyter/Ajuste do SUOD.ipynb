{
 "cells": [
  {
   "cell_type": "markdown",
   "id": "c82564aa",
   "metadata": {},
   "source": [
    "# Ajuste do SUOD\n",
    "Teste do SUOD  para comparação e seleção dos integrantes do aplicativo"
   ]
  },
  {
   "cell_type": "code",
   "execution_count": 1,
   "id": "97204ee8",
   "metadata": {},
   "outputs": [
    {
     "name": "stdout",
     "output_type": "stream",
     "text": [
      "Empty DataFrame\n",
      "Columns: [algoritmo, contaminacao, acuracia, precisao, recall, f1, fn, fp, tp]\n",
      "Index: []\n"
     ]
    }
   ],
   "source": [
    "import numpy as np\n",
    "import pandas as pd\n",
    "from sklearn.metrics import confusion_matrix, ConfusionMatrixDisplay, roc_auc_score\n",
    "from sklearn.metrics import f1_score,accuracy_score,precision_score,recall_score\n",
    "from sklearn.model_selection import GridSearchCV\n",
    "from pyod.utils.data import evaluate_print\n",
    "import matplotlib.pyplot as plt\n",
    "\n",
    "tabelafinal = pd.DataFrame(columns=['algoritmo','contaminacao','acuracia','precisao','recall','f1','fn','fp','tp'])\n",
    "print(tabelafinal)\n",
    " \n",
    "def avalia(clf_name,Y,y_train_scores,y_train_pred):\n",
    "    # Avalia e imprime os resultados\n",
    "    print(\"Avaliação do modelo \"+clf_name+\":\")\n",
    "    evaluate_print(clf_name, Y, y_train_scores)\n",
    "    tn, fp, fn, tp = confusion_matrix(Y,y_train_pred).ravel()\n",
    "    print('Acurácia='+str(accuracy_score(Y,y_train_pred)*100))   \n",
    "    print('Precisão='+str(precision_score(Y,y_train_pred)*100))\n",
    "    print('Recall='+str(recall_score(Y,y_train_pred)*100))\n",
    "    print('Falso Positivo='+str(fp))\n",
    "    print('Falso Negativo='+str(fn))\n",
    "    print('F1-score='+str(f1_score(Y,y_train_pred)*100))\n",
    "    print('ROC='+str(roc_auc_score(Y,y_train_scores)))\n",
    "\n",
    "def gera_matriz_de_confusao(Y,y_train_pred,clf_name):\n",
    "    cm = confusion_matrix(Y,y_train_pred)\n",
    "    disp = ConfusionMatrixDisplay(confusion_matrix=cm, display_labels=['Normal','Anomalia'])\n",
    "    disp.plot(cmap=plt.cm.Blues)\n",
    "    disp.ax_.set(title='Matriz de Confusão do '+clf_name,xlabel='Valores preditos', ylabel='Valores reais')\n",
    "    plt.show()\n",
    "    \n",
    "def grava_avaliacao(clf_name,Y,y_train_scores,y_train_pred,contamination):\n",
    "    # Grava os resultados da avaliação na tabela final\n",
    "    tn, fp, fn, tp = confusion_matrix(Y,y_train_pred).ravel()\n",
    "    ac=(\"{:.2f}\".format(round(accuracy_score(Y,y_train_pred)*100,2))).replace(\".\", \",\")\n",
    "    print('Acurácia='+ac)   \n",
    "    pc=(\"{:.2f}\".format(round(precision_score(Y,y_train_pred)*100,2))).replace(\".\", \",\")\n",
    "    print('Precisão='+pc)\n",
    "    rc=(\"{:.2f}\".format(round(recall_score(Y,y_train_pred)*100,2))).replace(\".\", \",\")\n",
    "    print('Recall='+rc)\n",
    "    f1=(\"{:.2f}\".format(round(f1_score(Y,y_train_pred)*100,2))).replace(\".\", \",\")\n",
    "    print('F1='+f1)\n",
    "    print('Falso Negativo='+str(fn))\n",
    "    print('Falso Positivo='+str(fp))\n",
    "    print('Verdadeiro Positivo='+str(tp))\n",
    "    cont=str(round(contamination,2)).replace(\".\",\",\")\n",
    "    tabelafinal.loc[len(tabelafinal.index)] = [clf_name,cont,ac,pc,rc,f1,fn,fp,tp] \n",
    "      "
   ]
  },
  {
   "cell_type": "markdown",
   "id": "46e6c63a",
   "metadata": {},
   "source": [
    "# Recuperação dos dados a serem utilizados na avaliação\n",
    "Leitura do arquivo gerado para o material de catmat_id= 469793 -> Descrição:'MICROCOMPUTADOR'."
   ]
  },
  {
   "cell_type": "code",
   "execution_count": 2,
   "id": "93956583",
   "metadata": {},
   "outputs": [
    {
     "name": "stdout",
     "output_type": "stream",
     "text": [
      "     quantidade  valor_unitario  distancia_uasg_fornecedor  anomalia\n",
      "0           100          6570.0                   2346.440         1\n",
      "1             0             0.0                      0.000         0\n",
      "2             0             0.0                      0.000         0\n",
      "3             0             0.0                      0.000         0\n",
      "4             0             0.0                      0.000         0\n",
      "..          ...             ...                        ...       ...\n",
      "272           0             0.0                      0.000         0\n",
      "273           0             0.0                      0.000         0\n",
      "274           0             0.0                      0.000         0\n",
      "275           4         45000.0                      0.000         1\n",
      "276          65          8862.0                    531.952         1\n",
      "\n",
      "[277 rows x 4 columns]\n"
     ]
    }
   ],
   "source": [
    "import os\n",
    "import pandas as pd\n",
    "def load_itens(path):\n",
    "    csv_path = os.path.join(path,\"469793.csv\")\n",
    "    return pd.read_csv(csv_path)\n",
    "\n",
    "df=load_itens(\".\")\n",
    "## Retira os campos que não serão utilizados no treinamento\n",
    "df = df.drop(['licitacao_contrato'],axis=1)\n",
    "df = df.drop(['id'],axis=1)\n",
    "df = df.drop(['data'],axis=1)\n",
    "df = df.drop(['catmat_id'],axis=1)\n",
    "df = df.drop(['unidade'],axis=1)\n",
    "df = df.drop(['valor_total'],axis=1)\n",
    "df = df.drop(['municipio_uasg'],axis=1)\n",
    "df = df.drop(['municipio_fornecedor'],axis=1)\n",
    "print(df)"
   ]
  },
  {
   "cell_type": "markdown",
   "id": "da98c6c0",
   "metadata": {},
   "source": [
    "# Separação do Label dos dados"
   ]
  },
  {
   "cell_type": "code",
   "execution_count": 3,
   "id": "2c5eb1a4",
   "metadata": {},
   "outputs": [
    {
     "name": "stdout",
     "output_type": "stream",
     "text": [
      "     quantidade  valor_unitario  distancia_uasg_fornecedor\n",
      "0           100          6570.0                   2346.440\n",
      "1             0             0.0                      0.000\n",
      "2             0             0.0                      0.000\n",
      "3             0             0.0                      0.000\n",
      "4             0             0.0                      0.000\n",
      "..          ...             ...                        ...\n",
      "272           0             0.0                      0.000\n",
      "273           0             0.0                      0.000\n",
      "274           0             0.0                      0.000\n",
      "275           4         45000.0                      0.000\n",
      "276          65          8862.0                    531.952\n",
      "\n",
      "[277 rows x 3 columns]\n",
      "0      1\n",
      "1      0\n",
      "2      0\n",
      "3      0\n",
      "4      0\n",
      "      ..\n",
      "272    0\n",
      "273    0\n",
      "274    0\n",
      "275    1\n",
      "276    1\n",
      "Name: anomalia, Length: 277, dtype: int64\n"
     ]
    }
   ],
   "source": [
    "x = df.iloc[:, :-1]\n",
    "y = df.iloc[:, -1]\n",
    "print(x)\n",
    "print(y)"
   ]
  },
  {
   "cell_type": "markdown",
   "id": "976e6dc1",
   "metadata": {},
   "source": [
    "# SUOD"
   ]
  },
  {
   "cell_type": "code",
   "execution_count": null,
   "id": "9913884d",
   "metadata": {},
   "outputs": [
    {
     "name": "stdout",
     "output_type": "stream",
     "text": [
      "\n"
     ]
    },
    {
     "name": "stderr",
     "output_type": "stream",
     "text": [
      "[Parallel(n_jobs=2)]: Using backend LokyBackend with 2 concurrent workers.\n",
      "[Parallel(n_jobs=2)]: Done   2 out of   2 | elapsed:  1.4min remaining:    0.0s\n",
      "[Parallel(n_jobs=2)]: Done   2 out of   2 | elapsed:  1.4min finished\n",
      "[Parallel(n_jobs=2)]: Using backend LokyBackend with 2 concurrent workers.\n",
      "[Parallel(n_jobs=2)]: Done   2 out of   2 | elapsed:    1.4s remaining:    0.0s\n",
      "[Parallel(n_jobs=2)]: Done   2 out of   2 | elapsed:    1.4s finished\n"
     ]
    },
    {
     "name": "stdout",
     "output_type": "stream",
     "text": [
      "\n"
     ]
    },
    {
     "name": "stderr",
     "output_type": "stream",
     "text": [
      "[Parallel(n_jobs=2)]: Using backend LokyBackend with 2 concurrent workers.\n",
      "[Parallel(n_jobs=2)]: Done   2 out of   2 | elapsed:   10.2s remaining:    0.0s\n",
      "[Parallel(n_jobs=2)]: Done   2 out of   2 | elapsed:   10.2s finished\n",
      "[Parallel(n_jobs=2)]: Using backend LokyBackend with 2 concurrent workers.\n"
     ]
    },
    {
     "name": "stdout",
     "output_type": "stream",
     "text": [
      "Acurácia: 1.0\n",
      "Recall: 1.0\n",
      "\n"
     ]
    },
    {
     "name": "stderr",
     "output_type": "stream",
     "text": [
      "[Parallel(n_jobs=2)]: Done   2 out of   2 | elapsed:  1.6min remaining:    0.0s\n",
      "[Parallel(n_jobs=2)]: Done   2 out of   2 | elapsed:  1.6min finished\n",
      "[Parallel(n_jobs=2)]: Using backend LokyBackend with 2 concurrent workers.\n",
      "[Parallel(n_jobs=2)]: Done   2 out of   2 | elapsed:    1.5s remaining:    0.0s\n",
      "[Parallel(n_jobs=2)]: Done   2 out of   2 | elapsed:    1.5s finished\n"
     ]
    },
    {
     "name": "stdout",
     "output_type": "stream",
     "text": [
      "\n"
     ]
    },
    {
     "name": "stderr",
     "output_type": "stream",
     "text": [
      "[Parallel(n_jobs=2)]: Using backend LokyBackend with 2 concurrent workers.\n",
      "[Parallel(n_jobs=2)]: Done   2 out of   2 | elapsed:    5.4s remaining:    0.0s\n",
      "[Parallel(n_jobs=2)]: Done   2 out of   2 | elapsed:    5.4s finished\n",
      "[Parallel(n_jobs=2)]: Using backend LokyBackend with 2 concurrent workers.\n"
     ]
    },
    {
     "name": "stdout",
     "output_type": "stream",
     "text": [
      "Acurácia: 1.0\n",
      "Recall: 1.0\n",
      "\n"
     ]
    },
    {
     "name": "stderr",
     "output_type": "stream",
     "text": [
      "[Parallel(n_jobs=2)]: Done   2 out of   2 | elapsed:  1.4min remaining:    0.0s\n",
      "[Parallel(n_jobs=2)]: Done   2 out of   2 | elapsed:  1.4min finished\n",
      "[Parallel(n_jobs=2)]: Using backend LokyBackend with 2 concurrent workers.\n",
      "[Parallel(n_jobs=2)]: Done   2 out of   2 | elapsed:    1.4s remaining:    0.0s\n",
      "[Parallel(n_jobs=2)]: Done   2 out of   2 | elapsed:    1.4s finished\n"
     ]
    },
    {
     "name": "stdout",
     "output_type": "stream",
     "text": [
      "\n"
     ]
    },
    {
     "name": "stderr",
     "output_type": "stream",
     "text": [
      "[Parallel(n_jobs=2)]: Using backend LokyBackend with 2 concurrent workers.\n",
      "[Parallel(n_jobs=2)]: Done   2 out of   2 | elapsed:   10.1s remaining:    0.0s\n",
      "[Parallel(n_jobs=2)]: Done   2 out of   2 | elapsed:   10.1s finished\n",
      "[Parallel(n_jobs=2)]: Using backend LokyBackend with 2 concurrent workers.\n"
     ]
    },
    {
     "name": "stdout",
     "output_type": "stream",
     "text": [
      "Acurácia: 1.0\n",
      "Recall: 1.0\n",
      "\n"
     ]
    },
    {
     "name": "stderr",
     "output_type": "stream",
     "text": [
      "[Parallel(n_jobs=2)]: Done   2 out of   2 | elapsed:  1.7min remaining:    0.0s\n",
      "[Parallel(n_jobs=2)]: Done   2 out of   2 | elapsed:  1.7min finished\n",
      "[Parallel(n_jobs=2)]: Using backend LokyBackend with 2 concurrent workers.\n",
      "[Parallel(n_jobs=2)]: Done   2 out of   2 | elapsed:    1.5s remaining:    0.0s\n",
      "[Parallel(n_jobs=2)]: Done   2 out of   2 | elapsed:    1.5s finished\n"
     ]
    },
    {
     "name": "stdout",
     "output_type": "stream",
     "text": [
      "\n"
     ]
    },
    {
     "name": "stderr",
     "output_type": "stream",
     "text": [
      "[Parallel(n_jobs=2)]: Using backend LokyBackend with 2 concurrent workers.\n",
      "[Parallel(n_jobs=2)]: Done   2 out of   2 | elapsed:    8.5s remaining:    0.0s\n",
      "[Parallel(n_jobs=2)]: Done   2 out of   2 | elapsed:    8.5s finished\n",
      "[Parallel(n_jobs=2)]: Using backend LokyBackend with 2 concurrent workers.\n"
     ]
    },
    {
     "name": "stdout",
     "output_type": "stream",
     "text": [
      "Acurácia: 1.0\n",
      "Recall: 1.0\n",
      "\n"
     ]
    },
    {
     "name": "stderr",
     "output_type": "stream",
     "text": [
      "[Parallel(n_jobs=2)]: Done   2 out of   2 | elapsed:  1.6min remaining:    0.0s\n",
      "[Parallel(n_jobs=2)]: Done   2 out of   2 | elapsed:  1.6min finished\n",
      "[Parallel(n_jobs=2)]: Using backend LokyBackend with 2 concurrent workers.\n",
      "[Parallel(n_jobs=2)]: Done   2 out of   2 | elapsed:    1.5s remaining:    0.0s\n",
      "[Parallel(n_jobs=2)]: Done   2 out of   2 | elapsed:    1.5s finished\n",
      "[Parallel(n_jobs=2)]: Using backend LokyBackend with 2 concurrent workers.\n"
     ]
    },
    {
     "name": "stdout",
     "output_type": "stream",
     "text": [
      "\n"
     ]
    },
    {
     "name": "stderr",
     "output_type": "stream",
     "text": [
      "[Parallel(n_jobs=2)]: Done   2 out of   2 | elapsed:   12.8s remaining:    0.0s\n",
      "[Parallel(n_jobs=2)]: Done   2 out of   2 | elapsed:   12.8s finished\n",
      "[Parallel(n_jobs=2)]: Using backend LokyBackend with 2 concurrent workers.\n"
     ]
    },
    {
     "name": "stdout",
     "output_type": "stream",
     "text": [
      "Acurácia: 1.0\n",
      "Recall: 1.0\n",
      "\n"
     ]
    },
    {
     "name": "stderr",
     "output_type": "stream",
     "text": [
      "[Parallel(n_jobs=2)]: Done   2 out of   2 | elapsed:  1.6min remaining:    0.0s\n",
      "[Parallel(n_jobs=2)]: Done   2 out of   2 | elapsed:  1.6min finished\n",
      "[Parallel(n_jobs=2)]: Using backend LokyBackend with 2 concurrent workers.\n",
      "[Parallel(n_jobs=2)]: Done   2 out of   2 | elapsed:    1.5s remaining:    0.0s\n",
      "[Parallel(n_jobs=2)]: Done   2 out of   2 | elapsed:    1.5s finished\n"
     ]
    },
    {
     "name": "stdout",
     "output_type": "stream",
     "text": [
      "\n"
     ]
    },
    {
     "name": "stderr",
     "output_type": "stream",
     "text": [
      "[Parallel(n_jobs=2)]: Using backend LokyBackend with 2 concurrent workers.\n",
      "[Parallel(n_jobs=2)]: Done   2 out of   2 | elapsed:   20.9s remaining:    0.0s\n",
      "[Parallel(n_jobs=2)]: Done   2 out of   2 | elapsed:   20.9s finished\n",
      "[Parallel(n_jobs=2)]: Using backend LokyBackend with 2 concurrent workers.\n"
     ]
    },
    {
     "name": "stdout",
     "output_type": "stream",
     "text": [
      "Acurácia: 1.0\n",
      "Recall: 1.0\n",
      "\n"
     ]
    },
    {
     "name": "stderr",
     "output_type": "stream",
     "text": [
      "[Parallel(n_jobs=2)]: Done   2 out of   2 | elapsed:  1.6min remaining:    0.0s\n",
      "[Parallel(n_jobs=2)]: Done   2 out of   2 | elapsed:  1.6min finished\n",
      "[Parallel(n_jobs=2)]: Using backend LokyBackend with 2 concurrent workers.\n",
      "[Parallel(n_jobs=2)]: Done   2 out of   2 | elapsed:    1.4s remaining:    0.0s\n",
      "[Parallel(n_jobs=2)]: Done   2 out of   2 | elapsed:    1.4s finished\n"
     ]
    },
    {
     "name": "stdout",
     "output_type": "stream",
     "text": [
      "\n"
     ]
    },
    {
     "name": "stderr",
     "output_type": "stream",
     "text": [
      "[Parallel(n_jobs=2)]: Using backend LokyBackend with 2 concurrent workers.\n",
      "[Parallel(n_jobs=2)]: Done   2 out of   2 | elapsed:   10.3s remaining:    0.0s\n",
      "[Parallel(n_jobs=2)]: Done   2 out of   2 | elapsed:   10.3s finished\n",
      "[Parallel(n_jobs=2)]: Using backend LokyBackend with 2 concurrent workers.\n"
     ]
    },
    {
     "name": "stdout",
     "output_type": "stream",
     "text": [
      "Acurácia: 1.0\n",
      "Recall: 1.0\n",
      "\n"
     ]
    },
    {
     "name": "stderr",
     "output_type": "stream",
     "text": [
      "[Parallel(n_jobs=2)]: Done   2 out of   2 | elapsed:  1.6min remaining:    0.0s\n",
      "[Parallel(n_jobs=2)]: Done   2 out of   2 | elapsed:  1.6min finished\n",
      "[Parallel(n_jobs=2)]: Using backend LokyBackend with 2 concurrent workers.\n",
      "[Parallel(n_jobs=2)]: Done   2 out of   2 | elapsed:    1.4s remaining:    0.0s\n",
      "[Parallel(n_jobs=2)]: Done   2 out of   2 | elapsed:    1.4s finished\n"
     ]
    },
    {
     "name": "stdout",
     "output_type": "stream",
     "text": [
      "\n"
     ]
    },
    {
     "name": "stderr",
     "output_type": "stream",
     "text": [
      "[Parallel(n_jobs=2)]: Using backend LokyBackend with 2 concurrent workers.\n",
      "[Parallel(n_jobs=2)]: Done   2 out of   2 | elapsed:   17.8s remaining:    0.0s\n",
      "[Parallel(n_jobs=2)]: Done   2 out of   2 | elapsed:   17.8s finished\n",
      "[Parallel(n_jobs=2)]: Using backend LokyBackend with 2 concurrent workers.\n"
     ]
    },
    {
     "name": "stdout",
     "output_type": "stream",
     "text": [
      "Acurácia: 1.0\n",
      "Recall: 1.0\n",
      "\n"
     ]
    },
    {
     "name": "stderr",
     "output_type": "stream",
     "text": [
      "[Parallel(n_jobs=2)]: Done   2 out of   2 | elapsed:  1.6min remaining:    0.0s\n",
      "[Parallel(n_jobs=2)]: Done   2 out of   2 | elapsed:  1.6min finished\n",
      "[Parallel(n_jobs=2)]: Using backend LokyBackend with 2 concurrent workers.\n",
      "[Parallel(n_jobs=2)]: Done   2 out of   2 | elapsed:    1.4s remaining:    0.0s\n",
      "[Parallel(n_jobs=2)]: Done   2 out of   2 | elapsed:    1.4s finished\n"
     ]
    },
    {
     "name": "stdout",
     "output_type": "stream",
     "text": [
      "\n"
     ]
    },
    {
     "name": "stderr",
     "output_type": "stream",
     "text": [
      "[Parallel(n_jobs=2)]: Using backend LokyBackend with 2 concurrent workers.\n",
      "[Parallel(n_jobs=2)]: Done   2 out of   2 | elapsed:   21.0s remaining:    0.0s\n",
      "[Parallel(n_jobs=2)]: Done   2 out of   2 | elapsed:   21.0s finished\n",
      "[Parallel(n_jobs=2)]: Using backend LokyBackend with 2 concurrent workers.\n"
     ]
    },
    {
     "name": "stdout",
     "output_type": "stream",
     "text": [
      "Acurácia: 1.0\n",
      "Recall: 1.0\n",
      "\n"
     ]
    },
    {
     "name": "stderr",
     "output_type": "stream",
     "text": [
      "[Parallel(n_jobs=2)]: Done   2 out of   2 | elapsed:  1.7min remaining:    0.0s\n",
      "[Parallel(n_jobs=2)]: Done   2 out of   2 | elapsed:  1.7min finished\n",
      "[Parallel(n_jobs=2)]: Using backend LokyBackend with 2 concurrent workers.\n",
      "[Parallel(n_jobs=2)]: Done   2 out of   2 | elapsed:    1.4s remaining:    0.0s\n",
      "[Parallel(n_jobs=2)]: Done   2 out of   2 | elapsed:    1.4s finished\n",
      "[Parallel(n_jobs=2)]: Using backend LokyBackend with 2 concurrent workers.\n"
     ]
    },
    {
     "name": "stdout",
     "output_type": "stream",
     "text": [
      "\n"
     ]
    }
   ],
   "source": [
    "# Importa bibliotecas do PyOD com os algoritmos de detecção de anomalias\n",
    "from pyod.models.inne import INNE\n",
    "from pyod.models.abod import ABOD\n",
    "from pyod.models.cblof import CBLOF\n",
    "from pyod.models.knn import KNN\n",
    "from pyod.models.lof import LOF\n",
    "from pyod.models.pca import PCA\n",
    "from pyod.models.sampling import Sampling\n",
    "from pyod.models.ecod import ECOD\n",
    "from pyod.models.copod import COPOD\n",
    "from pyod.models.suod import SUOD\n",
    "from sklearn.model_selection import StratifiedKFold\n",
    "from sklearn.metrics import accuracy_score\n",
    "from sklearn.metrics import recall_score\n",
    "\n",
    "\n",
    "detector_list = [\n",
    "         INNE(contamination=0.05, n_estimators=50, random_state= 69), \n",
    "         ABOD(contamination=0.05, method= 'default', n_neighbors=20),\n",
    "         CBLOF(contamination=0.05, n_clusters=2),\n",
    "         KNN(contamination=0.05, leaf_size=10, method='largest', n_neighbors=10),\n",
    "         LOF(contamination=0.05, leaf_size=1, n_neighbors=34),  \n",
    "         PCA(contamination=0.05, n_components=3, n_selected_components=1),\n",
    "         Sampling(contamination=0.05, subset_size=10),\n",
    "         ECOD(contamination=0.09),\n",
    "         COPOD(contamination=0.12)\n",
    "]\n",
    "    \n",
    "# Inicializar o modelo SUOD\n",
    "model = SUOD(base_estimators=detector_list, n_jobs=2, combination='maximization',rp_flag_global=False,approx_flag_global=False)\n",
    "\n",
    "# Definir a validação cruzada estratificada\n",
    "cv = StratifiedKFold(n_splits=10, shuffle=True, random_state=69)\n",
    "\n",
    "\n",
    "acuracia=[]\n",
    "recall=[]\n",
    "\n",
    "# Loop para treinar e testar o modelo\n",
    "for train_index, test_index in cv.split(x,y):\n",
    "    X_train, X_test = x.iloc[train_index], x.iloc[test_index]\n",
    "    y_train, y_test = y.iloc[train_index], y.iloc[test_index]\n",
    "    \n",
    "    # Treinar o modelo\n",
    "    model.fit(X_train)\n",
    "\n",
    "    # Fazer as previsões\n",
    "    y_pred = model.predict(X_test)\n",
    "\n",
    "    # Calcular a acurácia\n",
    "    acc = accuracy_score(y_test, y_pred)\n",
    "    print(f'Acurácia: {acc}')\n",
    "    acuracia.append(acc)\n",
    "    \n",
    "    # Calcular o Recall\n",
    "    rec = recall_score(y_test, y_pred)\n",
    "    print(f'Recall: {rec}')\n",
    "    recall.append(rec)\n",
    "    \n",
    "acuracia_media = sum(acuracia) / len(acuracia)\n",
    "recall_medio = sum(recall) / len(recall)\n",
    "    \n",
    "    \n",
    "print(f'Acurácia média: {acuracia_media}')\n",
    "print(f'Recall médio: {recall_medio}')\n",
    "\n"
   ]
  },
  {
   "cell_type": "code",
   "execution_count": null,
   "id": "091f7170",
   "metadata": {},
   "outputs": [],
   "source": [
    "  "
   ]
  },
  {
   "cell_type": "markdown",
   "id": "bd3a850f",
   "metadata": {},
   "source": [
    "# Imprime a tabela final de avaliação"
   ]
  },
  {
   "cell_type": "code",
   "execution_count": null,
   "id": "e318a885",
   "metadata": {},
   "outputs": [],
   "source": [
    "tabelafinal.sort_values(\"fn\", axis = 0, ascending = True,\n",
    "                 inplace = True, na_position ='last')\n",
    "print(tabelafinal)"
   ]
  }
 ],
 "metadata": {
  "kernelspec": {
   "display_name": "Python 3 (ipykernel)",
   "language": "python",
   "name": "python3"
  },
  "language_info": {
   "codemirror_mode": {
    "name": "ipython",
    "version": 3
   },
   "file_extension": ".py",
   "mimetype": "text/x-python",
   "name": "python",
   "nbconvert_exporter": "python",
   "pygments_lexer": "ipython3",
   "version": "3.10.13"
  }
 },
 "nbformat": 4,
 "nbformat_minor": 5
}
