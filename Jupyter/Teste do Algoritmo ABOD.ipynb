{
 "cells": [
  {
   "cell_type": "markdown",
   "id": "c82564aa",
   "metadata": {
    "jp-MarkdownHeadingCollapsed": true
   },
   "source": [
    "# Teste do Algoritmo ABOD\n",
    "Teste dos algoritmos de detecção de anomalias para comparação e seleção dos integrantes do aplicativo"
   ]
  },
  {
   "cell_type": "code",
   "execution_count": 1,
   "id": "97204ee8",
   "metadata": {},
   "outputs": [
    {
     "name": "stdout",
     "output_type": "stream",
     "text": [
      "Empty DataFrame\n",
      "Columns: [algoritmo, contaminacao, acuracia, precisao, recall, f1, fn, fp, tp]\n",
      "Index: []\n"
     ]
    }
   ],
   "source": [
    "import numpy as np\n",
    "import pandas as pd\n",
    "from sklearn.metrics import confusion_matrix, ConfusionMatrixDisplay, roc_auc_score\n",
    "from sklearn.metrics import f1_score,accuracy_score,precision_score,recall_score\n",
    "from sklearn.model_selection import GridSearchCV\n",
    "from pyod.utils.data import evaluate_print\n",
    "import matplotlib.pyplot as plt\n",
    "\n",
    "tabelafinal = pd.DataFrame(columns=['algoritmo','contaminacao','acuracia','precisao','recall','f1','fn','fp','tp'])\n",
    "print(tabelafinal)\n",
    " \n",
    "def avalia(clf_name,Y,y_train_scores,y_train_pred):\n",
    "    # Avalia e imprime os resultados\n",
    "    print(\"Avaliação do modelo \"+clf_name+\":\")\n",
    "    evaluate_print(clf_name, Y, y_train_scores)\n",
    "    tn, fp, fn, tp = confusion_matrix(Y,y_train_pred).ravel()\n",
    "    print('Acurácia='+str(accuracy_score(Y,y_train_pred)*100))   \n",
    "    print('Precisão='+str(precision_score(Y,y_train_pred)*100))\n",
    "    print('Recall='+str(recall_score(Y,y_train_pred)*100))\n",
    "    print('Falso Positivo='+str(fp))\n",
    "    print('Falso Negativo='+str(fn))\n",
    "    print('F1-score='+str(f1_score(Y,y_train_pred)*100))\n",
    "    print('ROC='+str(roc_auc_score(Y,y_train_scores)))\n",
    "\n",
    "def gera_matriz_de_confusao(Y,y_train_pred,clf_name):\n",
    "    cm = confusion_matrix(Y,y_train_pred)\n",
    "    disp = ConfusionMatrixDisplay(confusion_matrix=cm, display_labels=['Normal','Anomalia'])\n",
    "    disp.plot(cmap=plt.cm.Blues)\n",
    "    disp.ax_.set(title='Matriz de Confusão do '+clf_name,xlabel='Valores preditos', ylabel='Valores reais')\n",
    "    plt.show()\n",
    "    \n",
    "def grava_avaliacao(clf_name,Y,y_train_scores,y_train_pred,contamination):\n",
    "    # Grava os resultados da avaliação na tabela final\n",
    "    tn, fp, fn, tp = confusion_matrix(Y,y_train_pred).ravel()\n",
    "    ac=(\"{:.2f}\".format(round(accuracy_score(Y,y_train_pred)*100,2))).replace(\".\", \",\")\n",
    "    print('Acurácia='+ac)   \n",
    "    pc=(\"{:.2f}\".format(round(precision_score(Y,y_train_pred)*100,2))).replace(\".\", \",\")\n",
    "    print('Precisão='+pc)\n",
    "    rc=(\"{:.2f}\".format(round(recall_score(Y,y_train_pred)*100,2))).replace(\".\", \",\")\n",
    "    print('Recall='+rc)\n",
    "    f1=(\"{:.2f}\".format(round(f1_score(Y,y_train_pred)*100,2))).replace(\".\", \",\")\n",
    "    print('F1='+f1)\n",
    "    print('Falso Negativo='+str(fn))\n",
    "    print('Falso Positivo='+str(fp))\n",
    "    print('Verdadeiro Positivo='+str(tp))\n",
    "    cont=str(round(contamination,2)).replace(\".\",\",\")\n",
    "    tabelafinal.loc[len(tabelafinal.index)] = [clf_name,cont,ac,pc,rc,f1,fn,fp,tp] \n",
    "      "
   ]
  },
  {
   "cell_type": "markdown",
   "id": "46e6c63a",
   "metadata": {
    "jp-MarkdownHeadingCollapsed": true
   },
   "source": [
    "# Recuperação dos dados a serem utilizados na avaliação\n",
    "Leitura do arquivo gerado para o material de catmat_id= 445485 -> Descrição:'ÁGUA MINERAL NATURAL, TIPO SEM GÁS MATERIAL EMBALAGEM PLÁSTICO TIPO EMBALAGEM RETORNÁVEL'."
   ]
  },
  {
   "cell_type": "code",
   "execution_count": 2,
   "id": "93956583",
   "metadata": {},
   "outputs": [
    {
     "name": "stdout",
     "output_type": "stream",
     "text": [
      "     quantidade  valor_unitario  distancia_uasg_fornecedor  anomalia\n",
      "0           420           12.00                    935.371         0\n",
      "1         28000            5.88                      0.000         0\n",
      "2          2100            5.09                      0.000         0\n",
      "3           360            7.70                    172.788         0\n",
      "4           120            7.70                    172.788         0\n",
      "..          ...             ...                        ...       ...\n",
      "725        5000           10.45                    398.772         0\n",
      "726        4000           13.45                    398.772         0\n",
      "727        1440           11.37                      0.000         0\n",
      "728        1440           10.58                      0.000         0\n",
      "729          10           20.00                      0.000         0\n",
      "\n",
      "[730 rows x 4 columns]\n"
     ]
    }
   ],
   "source": [
    "import os\n",
    "import pandas as pd\n",
    "def load_itens(path):\n",
    "    csv_path = os.path.join(path,\"445485.csv\")\n",
    "    return pd.read_csv(csv_path)\n",
    "\n",
    "df=load_itens(\".\")\n",
    "## Retira os campos que não serão utilizados no treinamento\n",
    "df = df.drop(['licitacao_contrato'],axis=1)\n",
    "df = df.drop(['id'],axis=1)\n",
    "df = df.drop(['data'],axis=1)\n",
    "df = df.drop(['catmat_id'],axis=1)\n",
    "df = df.drop(['unidade'],axis=1)\n",
    "df = df.drop(['valor_total'],axis=1)\n",
    "df = df.drop(['municipio_uasg'],axis=1)\n",
    "df = df.drop(['municipio_fornecedor'],axis=1)\n",
    "print(df)"
   ]
  },
  {
   "cell_type": "markdown",
   "id": "da98c6c0",
   "metadata": {
    "jp-MarkdownHeadingCollapsed": true
   },
   "source": [
    "# Separação do Label dos dados"
   ]
  },
  {
   "cell_type": "code",
   "execution_count": 3,
   "id": "2c5eb1a4",
   "metadata": {},
   "outputs": [
    {
     "name": "stdout",
     "output_type": "stream",
     "text": [
      "     quantidade  valor_unitario  distancia_uasg_fornecedor\n",
      "0           420           12.00                    935.371\n",
      "1         28000            5.88                      0.000\n",
      "2          2100            5.09                      0.000\n",
      "3           360            7.70                    172.788\n",
      "4           120            7.70                    172.788\n",
      "..          ...             ...                        ...\n",
      "725        5000           10.45                    398.772\n",
      "726        4000           13.45                    398.772\n",
      "727        1440           11.37                      0.000\n",
      "728        1440           10.58                      0.000\n",
      "729          10           20.00                      0.000\n",
      "\n",
      "[730 rows x 3 columns]\n",
      "0      0\n",
      "1      0\n",
      "2      0\n",
      "3      0\n",
      "4      0\n",
      "      ..\n",
      "725    0\n",
      "726    0\n",
      "727    0\n",
      "728    0\n",
      "729    0\n",
      "Name: anomalia, Length: 730, dtype: int64\n"
     ]
    }
   ],
   "source": [
    "X = df.iloc[:, :-1]\n",
    "Y = df.iloc[:, -1]\n",
    "print(X)\n",
    "print(Y)"
   ]
  },
  {
   "cell_type": "markdown",
   "id": "8b797dba",
   "metadata": {},
   "source": [
    "# Pré-processamento normalização dos dados min-max e robust"
   ]
  },
  {
   "cell_type": "code",
   "execution_count": 4,
   "id": "c6d4a812",
   "metadata": {
    "scrolled": true
   },
   "outputs": [],
   "source": [
    "from sklearn.preprocessing import RobustScaler, MinMaxScaler\n",
    "import numpy as np\n",
    "\n",
    "# Cria uma instância do RobustScaler\n",
    "robust_scaler = RobustScaler()\n",
    "\n",
    "# Ajusta e transforma os dados com o RobustScaler\n",
    "X_robust = robust_scaler.fit_transform(X)\n",
    "\n",
    "# Cria uma instância do MinMaxScaler\n",
    "minmax_scaler = MinMaxScaler()\n",
    "\n",
    "# Ajusta e transforma os dados com o MinMaxScaler\n",
    "X_minmax =  minmax_scaler.fit_transform(X)\n",
    "X_minmaxrobust =  minmax_scaler.fit_transform(X_robust)\n",
    "\n"
   ]
  },
  {
   "cell_type": "markdown",
   "id": "976e6dc1",
   "metadata": {},
   "source": [
    "# ABOD"
   ]
  },
  {
   "cell_type": "code",
   "execution_count": 5,
   "id": "9913884d",
   "metadata": {},
   "outputs": [],
   "source": [
    "# class pyod.models.abod.ABOD(contamination=0.1, n_neighbors=5, method='fast')[source]\n",
    "## Parâmetros existentes:\n",
    "# Parameters\n",
    "# contamination float in (0., 0.5), optional (default=0.1)\n",
    "# The amount of contamination of the data set, i.e. the proportion of outliers in the data set. Used when fitting to define the threshold on the decision function.\n",
    "\n",
    "# n_neighborsint, optional (default=10)\n",
    "# Number of neighbors to use by default for k neighbors queries.\n",
    "\n",
    "# method: str, optional (default=’fast’)\n",
    "# Valid values for metric are:\n",
    "# ‘fast’: fast ABOD. Only consider n_neighbors of training points\n",
    "# ‘default’: original ABOD with all training points, which could be slow\n",
    "\n",
    "from pyod.models.abod import ABOD\n",
    "from sklearn.model_selection import GridSearchCV\n",
    "\n",
    "# Uso do constructor para criar um classifier.\n",
    "clf = ABOD() # Sem nada dentro, pois vamos \"variar\" os parâmetros.\n",
    "clf_name='ABOD'\n",
    "\n",
    "# Exemplo dos parâmetros que quero testar.\n",
    "parametros = {'contamination': [0.05, 0.06, 0.07, 0.08, 0.09, 0.1, 0.11, 0.12, 0.13, 0.14, 0.15],\n",
    "              'n_neighbors':[5, 10, 15, 20, 25, 30],\n",
    "              'method':['default']}\n",
    "\n",
    "grid = GridSearchCV(estimator = clf,          \n",
    "                param_grid = parametros,  \n",
    "                scoring = 'recall',           \n",
    "                cv = 10)  "
   ]
  },
  {
   "cell_type": "code",
   "execution_count": null,
   "id": "35f75b6e",
   "metadata": {},
   "outputs": [
    {
     "name": "stderr",
     "output_type": "stream",
     "text": [
      "C:\\Users\\rterr\\.conda\\envs\\Mestrado310\\lib\\site-packages\\pyod\\models\\base.py:430: UserWarning: y should not be presented in unsupervised learning.\n",
      "  warnings.warn(\n",
      "C:\\Users\\rterr\\.conda\\envs\\Mestrado310\\lib\\site-packages\\sklearn\\metrics\\_classification.py:1344: UndefinedMetricWarning: Recall is ill-defined and being set to 0.0 due to no true samples. Use `zero_division` parameter to control this behavior.\n",
      "  _warn_prf(average, modifier, msg_start, len(result))\n",
      "C:\\Users\\rterr\\.conda\\envs\\Mestrado310\\lib\\site-packages\\pyod\\models\\base.py:430: UserWarning: y should not be presented in unsupervised learning.\n",
      "  warnings.warn(\n",
      "C:\\Users\\rterr\\.conda\\envs\\Mestrado310\\lib\\site-packages\\sklearn\\metrics\\_classification.py:1344: UndefinedMetricWarning: Recall is ill-defined and being set to 0.0 due to no true samples. Use `zero_division` parameter to control this behavior.\n",
      "  _warn_prf(average, modifier, msg_start, len(result))\n",
      "C:\\Users\\rterr\\.conda\\envs\\Mestrado310\\lib\\site-packages\\pyod\\models\\base.py:430: UserWarning: y should not be presented in unsupervised learning.\n",
      "  warnings.warn(\n",
      "C:\\Users\\rterr\\.conda\\envs\\Mestrado310\\lib\\site-packages\\pyod\\models\\base.py:430: UserWarning: y should not be presented in unsupervised learning.\n",
      "  warnings.warn(\n",
      "C:\\Users\\rterr\\.conda\\envs\\Mestrado310\\lib\\site-packages\\pyod\\models\\base.py:430: UserWarning: y should not be presented in unsupervised learning.\n",
      "  warnings.warn(\n",
      "C:\\Users\\rterr\\.conda\\envs\\Mestrado310\\lib\\site-packages\\pyod\\models\\base.py:430: UserWarning: y should not be presented in unsupervised learning.\n",
      "  warnings.warn(\n",
      "C:\\Users\\rterr\\.conda\\envs\\Mestrado310\\lib\\site-packages\\pyod\\models\\base.py:430: UserWarning: y should not be presented in unsupervised learning.\n",
      "  warnings.warn(\n",
      "C:\\Users\\rterr\\.conda\\envs\\Mestrado310\\lib\\site-packages\\pyod\\models\\base.py:430: UserWarning: y should not be presented in unsupervised learning.\n",
      "  warnings.warn(\n",
      "C:\\Users\\rterr\\.conda\\envs\\Mestrado310\\lib\\site-packages\\pyod\\models\\base.py:430: UserWarning: y should not be presented in unsupervised learning.\n",
      "  warnings.warn(\n",
      "C:\\Users\\rterr\\.conda\\envs\\Mestrado310\\lib\\site-packages\\pyod\\models\\base.py:430: UserWarning: y should not be presented in unsupervised learning.\n",
      "  warnings.warn(\n",
      "C:\\Users\\rterr\\.conda\\envs\\Mestrado310\\lib\\site-packages\\pyod\\models\\base.py:430: UserWarning: y should not be presented in unsupervised learning.\n",
      "  warnings.warn(\n",
      "C:\\Users\\rterr\\.conda\\envs\\Mestrado310\\lib\\site-packages\\sklearn\\metrics\\_classification.py:1344: UndefinedMetricWarning: Recall is ill-defined and being set to 0.0 due to no true samples. Use `zero_division` parameter to control this behavior.\n",
      "  _warn_prf(average, modifier, msg_start, len(result))\n",
      "C:\\Users\\rterr\\.conda\\envs\\Mestrado310\\lib\\site-packages\\pyod\\models\\base.py:430: UserWarning: y should not be presented in unsupervised learning.\n",
      "  warnings.warn(\n",
      "C:\\Users\\rterr\\.conda\\envs\\Mestrado310\\lib\\site-packages\\sklearn\\metrics\\_classification.py:1344: UndefinedMetricWarning: Recall is ill-defined and being set to 0.0 due to no true samples. Use `zero_division` parameter to control this behavior.\n",
      "  _warn_prf(average, modifier, msg_start, len(result))\n",
      "C:\\Users\\rterr\\.conda\\envs\\Mestrado310\\lib\\site-packages\\pyod\\models\\base.py:430: UserWarning: y should not be presented in unsupervised learning.\n",
      "  warnings.warn(\n",
      "C:\\Users\\rterr\\.conda\\envs\\Mestrado310\\lib\\site-packages\\pyod\\models\\base.py:430: UserWarning: y should not be presented in unsupervised learning.\n",
      "  warnings.warn(\n",
      "C:\\Users\\rterr\\.conda\\envs\\Mestrado310\\lib\\site-packages\\pyod\\models\\base.py:430: UserWarning: y should not be presented in unsupervised learning.\n",
      "  warnings.warn(\n",
      "C:\\Users\\rterr\\.conda\\envs\\Mestrado310\\lib\\site-packages\\pyod\\models\\base.py:430: UserWarning: y should not be presented in unsupervised learning.\n",
      "  warnings.warn(\n",
      "C:\\Users\\rterr\\.conda\\envs\\Mestrado310\\lib\\site-packages\\pyod\\models\\base.py:430: UserWarning: y should not be presented in unsupervised learning.\n",
      "  warnings.warn(\n",
      "C:\\Users\\rterr\\.conda\\envs\\Mestrado310\\lib\\site-packages\\pyod\\models\\base.py:430: UserWarning: y should not be presented in unsupervised learning.\n",
      "  warnings.warn(\n",
      "C:\\Users\\rterr\\.conda\\envs\\Mestrado310\\lib\\site-packages\\pyod\\models\\base.py:430: UserWarning: y should not be presented in unsupervised learning.\n",
      "  warnings.warn(\n",
      "C:\\Users\\rterr\\.conda\\envs\\Mestrado310\\lib\\site-packages\\pyod\\models\\base.py:430: UserWarning: y should not be presented in unsupervised learning.\n",
      "  warnings.warn(\n",
      "C:\\Users\\rterr\\.conda\\envs\\Mestrado310\\lib\\site-packages\\pyod\\models\\base.py:430: UserWarning: y should not be presented in unsupervised learning.\n",
      "  warnings.warn(\n",
      "C:\\Users\\rterr\\.conda\\envs\\Mestrado310\\lib\\site-packages\\sklearn\\metrics\\_classification.py:1344: UndefinedMetricWarning: Recall is ill-defined and being set to 0.0 due to no true samples. Use `zero_division` parameter to control this behavior.\n",
      "  _warn_prf(average, modifier, msg_start, len(result))\n",
      "C:\\Users\\rterr\\.conda\\envs\\Mestrado310\\lib\\site-packages\\pyod\\models\\base.py:430: UserWarning: y should not be presented in unsupervised learning.\n",
      "  warnings.warn(\n",
      "C:\\Users\\rterr\\.conda\\envs\\Mestrado310\\lib\\site-packages\\sklearn\\metrics\\_classification.py:1344: UndefinedMetricWarning: Recall is ill-defined and being set to 0.0 due to no true samples. Use `zero_division` parameter to control this behavior.\n",
      "  _warn_prf(average, modifier, msg_start, len(result))\n",
      "C:\\Users\\rterr\\.conda\\envs\\Mestrado310\\lib\\site-packages\\pyod\\models\\base.py:430: UserWarning: y should not be presented in unsupervised learning.\n",
      "  warnings.warn(\n",
      "C:\\Users\\rterr\\.conda\\envs\\Mestrado310\\lib\\site-packages\\pyod\\models\\base.py:430: UserWarning: y should not be presented in unsupervised learning.\n",
      "  warnings.warn(\n",
      "C:\\Users\\rterr\\.conda\\envs\\Mestrado310\\lib\\site-packages\\pyod\\models\\base.py:430: UserWarning: y should not be presented in unsupervised learning.\n",
      "  warnings.warn(\n",
      "C:\\Users\\rterr\\.conda\\envs\\Mestrado310\\lib\\site-packages\\pyod\\models\\base.py:430: UserWarning: y should not be presented in unsupervised learning.\n",
      "  warnings.warn(\n",
      "C:\\Users\\rterr\\.conda\\envs\\Mestrado310\\lib\\site-packages\\pyod\\models\\base.py:430: UserWarning: y should not be presented in unsupervised learning.\n",
      "  warnings.warn(\n",
      "C:\\Users\\rterr\\.conda\\envs\\Mestrado310\\lib\\site-packages\\pyod\\models\\base.py:430: UserWarning: y should not be presented in unsupervised learning.\n",
      "  warnings.warn(\n",
      "C:\\Users\\rterr\\.conda\\envs\\Mestrado310\\lib\\site-packages\\pyod\\models\\base.py:430: UserWarning: y should not be presented in unsupervised learning.\n",
      "  warnings.warn(\n",
      "C:\\Users\\rterr\\.conda\\envs\\Mestrado310\\lib\\site-packages\\pyod\\models\\base.py:430: UserWarning: y should not be presented in unsupervised learning.\n",
      "  warnings.warn(\n",
      "C:\\Users\\rterr\\.conda\\envs\\Mestrado310\\lib\\site-packages\\pyod\\models\\base.py:430: UserWarning: y should not be presented in unsupervised learning.\n",
      "  warnings.warn(\n",
      "C:\\Users\\rterr\\.conda\\envs\\Mestrado310\\lib\\site-packages\\sklearn\\metrics\\_classification.py:1344: UndefinedMetricWarning: Recall is ill-defined and being set to 0.0 due to no true samples. Use `zero_division` parameter to control this behavior.\n",
      "  _warn_prf(average, modifier, msg_start, len(result))\n",
      "C:\\Users\\rterr\\.conda\\envs\\Mestrado310\\lib\\site-packages\\pyod\\models\\base.py:430: UserWarning: y should not be presented in unsupervised learning.\n",
      "  warnings.warn(\n",
      "C:\\Users\\rterr\\.conda\\envs\\Mestrado310\\lib\\site-packages\\sklearn\\metrics\\_classification.py:1344: UndefinedMetricWarning: Recall is ill-defined and being set to 0.0 due to no true samples. Use `zero_division` parameter to control this behavior.\n",
      "  _warn_prf(average, modifier, msg_start, len(result))\n",
      "C:\\Users\\rterr\\.conda\\envs\\Mestrado310\\lib\\site-packages\\pyod\\models\\base.py:430: UserWarning: y should not be presented in unsupervised learning.\n",
      "  warnings.warn(\n",
      "C:\\Users\\rterr\\.conda\\envs\\Mestrado310\\lib\\site-packages\\pyod\\models\\base.py:430: UserWarning: y should not be presented in unsupervised learning.\n",
      "  warnings.warn(\n",
      "C:\\Users\\rterr\\.conda\\envs\\Mestrado310\\lib\\site-packages\\pyod\\models\\base.py:430: UserWarning: y should not be presented in unsupervised learning.\n",
      "  warnings.warn(\n",
      "C:\\Users\\rterr\\.conda\\envs\\Mestrado310\\lib\\site-packages\\pyod\\models\\base.py:430: UserWarning: y should not be presented in unsupervised learning.\n",
      "  warnings.warn(\n"
     ]
    },
    {
     "name": "stderr",
     "output_type": "stream",
     "text": [
      "C:\\Users\\rterr\\.conda\\envs\\Mestrado310\\lib\\site-packages\\pyod\\models\\base.py:430: UserWarning: y should not be presented in unsupervised learning.\n",
      "  warnings.warn(\n",
      "C:\\Users\\rterr\\.conda\\envs\\Mestrado310\\lib\\site-packages\\pyod\\models\\base.py:430: UserWarning: y should not be presented in unsupervised learning.\n",
      "  warnings.warn(\n",
      "C:\\Users\\rterr\\.conda\\envs\\Mestrado310\\lib\\site-packages\\pyod\\models\\base.py:430: UserWarning: y should not be presented in unsupervised learning.\n",
      "  warnings.warn(\n",
      "C:\\Users\\rterr\\.conda\\envs\\Mestrado310\\lib\\site-packages\\pyod\\models\\base.py:430: UserWarning: y should not be presented in unsupervised learning.\n",
      "  warnings.warn(\n",
      "C:\\Users\\rterr\\.conda\\envs\\Mestrado310\\lib\\site-packages\\pyod\\models\\base.py:430: UserWarning: y should not be presented in unsupervised learning.\n",
      "  warnings.warn(\n",
      "C:\\Users\\rterr\\.conda\\envs\\Mestrado310\\lib\\site-packages\\sklearn\\metrics\\_classification.py:1344: UndefinedMetricWarning: Recall is ill-defined and being set to 0.0 due to no true samples. Use `zero_division` parameter to control this behavior.\n",
      "  _warn_prf(average, modifier, msg_start, len(result))\n",
      "C:\\Users\\rterr\\.conda\\envs\\Mestrado310\\lib\\site-packages\\pyod\\models\\base.py:430: UserWarning: y should not be presented in unsupervised learning.\n",
      "  warnings.warn(\n",
      "C:\\Users\\rterr\\.conda\\envs\\Mestrado310\\lib\\site-packages\\sklearn\\metrics\\_classification.py:1344: UndefinedMetricWarning: Recall is ill-defined and being set to 0.0 due to no true samples. Use `zero_division` parameter to control this behavior.\n",
      "  _warn_prf(average, modifier, msg_start, len(result))\n",
      "C:\\Users\\rterr\\.conda\\envs\\Mestrado310\\lib\\site-packages\\pyod\\models\\base.py:430: UserWarning: y should not be presented in unsupervised learning.\n",
      "  warnings.warn(\n",
      "C:\\Users\\rterr\\.conda\\envs\\Mestrado310\\lib\\site-packages\\pyod\\models\\base.py:430: UserWarning: y should not be presented in unsupervised learning.\n",
      "  warnings.warn(\n",
      "C:\\Users\\rterr\\.conda\\envs\\Mestrado310\\lib\\site-packages\\pyod\\models\\base.py:430: UserWarning: y should not be presented in unsupervised learning.\n",
      "  warnings.warn(\n",
      "C:\\Users\\rterr\\.conda\\envs\\Mestrado310\\lib\\site-packages\\pyod\\models\\base.py:430: UserWarning: y should not be presented in unsupervised learning.\n",
      "  warnings.warn(\n"
     ]
    }
   ],
   "source": [
    "# Teste com as duas normalizações\n",
    "\n",
    "grid_result = grid.fit(X_minmaxrobust,Y)\n",
    "print('Best Score: ', grid_result.best_score_)\n",
    "print('Best Params: ', grid_result.best_params_)\n",
    "\n",
    "contamination=grid_result.best_params_['contamination']\n",
    "\n",
    "funcao=clf_name+'(**grid.best_params_)'\n",
    "clf = eval(funcao)\n",
    "clf.fit(X_minmaxrobust)\n",
    "\n",
    "avalia(clf_name,Y,clf.decision_scores_,clf.labels_)\n",
    "gera_matriz_de_confusao(Y,clf.labels_ ,clf_name)\n",
    "grava_avaliacao(clf_name+' Robusta e minmax',Y,clf.decision_scores_,clf.labels_,round(contamination,2))"
   ]
  },
  {
   "cell_type": "code",
   "execution_count": null,
   "id": "2063e25f",
   "metadata": {},
   "outputs": [],
   "source": [
    "# Teste com só MinMax\n",
    "\n",
    "grid_result = grid.fit(X_minmax, Y)\n",
    "print('Best Score: ', grid_result.best_score_)\n",
    "print('Best Params: ', grid_result.best_params_)\n",
    "\n",
    "contamination=grid_result.best_params_['contamination']\n",
    "\n",
    "funcao=clf_name+'(**grid.best_params_)'\n",
    "clf = eval(funcao)\n",
    "clf.fit(X_minmax)\n",
    "\n",
    "avalia(clf_name,Y,clf.decision_scores_,clf.labels_)\n",
    "gera_matriz_de_confusao(Y,clf.labels_ ,clf_name)\n",
    "grava_avaliacao(clf_name+' minmax',Y,clf.decision_scores_,clf.labels_,round(contamination,2))"
   ]
  },
  {
   "cell_type": "code",
   "execution_count": null,
   "id": "9790ad0d",
   "metadata": {},
   "outputs": [],
   "source": [
    "# Teste com só Robusta\n",
    "\n",
    "grid_result = grid.fit(X_robust, Y)\n",
    "print('Best Score: ', grid_result.best_score_)\n",
    "print('Best Params: ', grid_result.best_params_)\n",
    "\n",
    "contamination=grid_result.best_params_['contamination']\n",
    "\n",
    "funcao=clf_name+'(**grid.best_params_)'\n",
    "clf = eval(funcao)\n",
    "clf.fit(X_robust)\n",
    "\n",
    "avalia(clf_name,Y,clf.decision_scores_,clf.labels_)\n",
    "gera_matriz_de_confusao(Y,clf.labels_ ,clf_name)\n",
    "grava_avaliacao(clf_name+' Robusta',Y,clf.decision_scores_,clf.labels_,round(contamination,2))"
   ]
  },
  {
   "cell_type": "code",
   "execution_count": null,
   "id": "8c5622e6",
   "metadata": {},
   "outputs": [],
   "source": [
    "# Teste sem Normalização\n",
    "\n",
    "grid_result = grid.fit(X, Y)\n",
    "print('Best Score: ', grid_result.best_score_)\n",
    "print('Best Params: ', grid_result.best_params_)\n",
    "\n",
    "contamination=grid_result.best_params_['contamination']\n",
    "\n",
    "funcao=clf_name+'(**grid.best_params_)'\n",
    "clf = eval(funcao)\n",
    "clf.fit(X)\n",
    "\n",
    "avalia(clf_name,Y,clf.decision_scores_,clf.labels_)\n",
    "gera_matriz_de_confusao(Y,clf.labels_ ,clf_name)\n",
    "grava_avaliacao(clf_name,Y,clf.decision_scores_,clf.labels_,round(contamination,2))"
   ]
  },
  {
   "cell_type": "markdown",
   "id": "bd3a850f",
   "metadata": {},
   "source": [
    "# Imprime a tabela final de avaliação"
   ]
  },
  {
   "cell_type": "code",
   "execution_count": null,
   "id": "e318a885",
   "metadata": {},
   "outputs": [],
   "source": [
    "tabelafinal.sort_values(\"fn\", axis = 0, ascending = True,\n",
    "                 inplace = True, na_position ='last')\n",
    "print(tabelafinal)"
   ]
  }
 ],
 "metadata": {
  "kernelspec": {
   "display_name": "Python 3 (ipykernel)",
   "language": "python",
   "name": "python3"
  },
  "language_info": {
   "codemirror_mode": {
    "name": "ipython",
    "version": 3
   },
   "file_extension": ".py",
   "mimetype": "text/x-python",
   "name": "python",
   "nbconvert_exporter": "python",
   "pygments_lexer": "ipython3",
   "version": "3.10.13"
  }
 },
 "nbformat": 4,
 "nbformat_minor": 5
}
