{
 "cells": [
  {
   "cell_type": "markdown",
   "id": "698277f9",
   "metadata": {},
   "source": [
    "# Gera dados"
   ]
  },
  {
   "cell_type": "code",
   "execution_count": null,
   "id": "e87bd23a",
   "metadata": {},
   "outputs": [],
   "source": [
    "df=load_itens(\".\")\n",
    "mediana = df['valor_unitario'].median()\n",
    "qmaior = df['quantidade'].quantile(0.98)\n",
    "media = df['valor_unitario'].mean()\n",
    "minimo = df['valor_unitario'].min()\n",
    "std = df['valor_unitario'].std()\n",
    "qmax = df['quantidade'].max()\n",
    "maior = df['valor_unitario'].quantile(0.955)\n",
    "menor = df['valor_unitario'].quantile(0.025)\n",
    "print(media)\n",
    "print(mediana)\n",
    "print(std)\n",
    "print(maior)\n",
    "print(menor)\n",
    "df.loc[]\n",
    "df.loc[((df[\"valor_unitario\"] < maior) & (df[\"valor_unitario\"] > menor)), \"anomalia\"] = 0\n",
    "df.loc[df[\"valor_unitario\"] > maior, \"anomalia\"] = 1\n",
    "df.loc[df[\"valor_unitario\"] < menor, \"anomalia\"] = 1\n",
    "df.loc[df[\"quantidade\"] > qmaior, \"anomalia\"] = 1\n",
    "df.loc[((df[\"valor_unitario\"] < minimo) & (df[\"quantidade\"] < qmax)), \"anomalia\"] = 1\n",
    "df.to_csv('dadosavaliados.csv', index=False) "
   ]
  }
 ],
 "metadata": {
  "kernelspec": {
   "display_name": "Python 3 (ipykernel)",
   "language": "python",
   "name": "python3"
  },
  "language_info": {
   "codemirror_mode": {
    "name": "ipython",
    "version": 3
   },
   "file_extension": ".py",
   "mimetype": "text/x-python",
   "name": "python",
   "nbconvert_exporter": "python",
   "pygments_lexer": "ipython3",
   "version": "3.11.5"
  }
 },
 "nbformat": 4,
 "nbformat_minor": 5
}
